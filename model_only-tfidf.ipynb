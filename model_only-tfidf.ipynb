{
 "cells": [
  {
   "cell_type": "code",
   "execution_count": 1,
   "metadata": {},
   "outputs": [],
   "source": [
    "import tensorflow as tf\n",
    "from tensorflow.compat.v1.keras import backend as K"
   ]
  },
  {
   "cell_type": "code",
   "execution_count": 2,
   "metadata": {},
   "outputs": [],
   "source": [
    "from tensorflow import keras\n",
    "from tensorflow.keras import layers\n",
    "from keras.models import Model\n",
    "from keras.layers import Input\n",
    "from keras.layers import Embedding, Flatten, Dense, Dropout\n",
    "from keras.preprocessing.text import Tokenizer\n",
    "from keras.preprocessing.sequence import pad_sequences"
   ]
  },
  {
   "cell_type": "code",
   "execution_count": 3,
   "metadata": {},
   "outputs": [
    {
     "name": "stdout",
     "output_type": "stream",
     "text": [
      "Device mapping:\n",
      "/job:localhost/replica:0/task:0/device:XLA_CPU:0 -> device: XLA_CPU device\n",
      "/job:localhost/replica:0/task:0/device:XLA_GPU:0 -> device: XLA_GPU device\n",
      "/job:localhost/replica:0/task:0/device:GPU:0 -> device: 0, name: GeForce GTX 1650, pci bus id: 0000:01:00.0, compute capability: 7.5\n",
      "\n"
     ]
    }
   ],
   "source": [
    "config=tf.compat.v1.ConfigProto()\n",
    "config.gpu_options.allow_growth=True\n",
    "config.log_device_placement=True\n",
    "sess=tf.compat.v1.Session(config=config)\n",
    "K.set_session(sess)"
   ]
  },
  {
   "cell_type": "code",
   "execution_count": 4,
   "metadata": {},
   "outputs": [],
   "source": [
    "import pandas as pd\n",
    "from collections import Counter\n",
    "import numpy as np\n",
    "import re\n",
    "import os\n",
    "from numpy import zeros\n",
    "from sklearn import preprocessing\n",
    "le = preprocessing.LabelEncoder()"
   ]
  },
  {
   "cell_type": "code",
   "execution_count": 5,
   "metadata": {},
   "outputs": [
    {
     "data": {
      "text/html": [
       "<div>\n",
       "<style scoped>\n",
       "    .dataframe tbody tr th:only-of-type {\n",
       "        vertical-align: middle;\n",
       "    }\n",
       "\n",
       "    .dataframe tbody tr th {\n",
       "        vertical-align: top;\n",
       "    }\n",
       "\n",
       "    .dataframe thead th {\n",
       "        text-align: right;\n",
       "    }\n",
       "</style>\n",
       "<table border=\"1\" class=\"dataframe\">\n",
       "  <thead>\n",
       "    <tr style=\"text-align: right;\">\n",
       "      <th></th>\n",
       "      <th>Unnamed: 0</th>\n",
       "      <th>occ_group</th>\n",
       "      <th>skill_category</th>\n",
       "      <th>skill_title</th>\n",
       "      <th>job_description</th>\n",
       "      <th>city</th>\n",
       "      <th>state</th>\n",
       "      <th>no_stopwords_stemmed</th>\n",
       "      <th>data_len</th>\n",
       "    </tr>\n",
       "  </thead>\n",
       "  <tbody>\n",
       "    <tr>\n",
       "      <th>0</th>\n",
       "      <td>0</td>\n",
       "      <td>basic</td>\n",
       "      <td>Mathematics.xls</td>\n",
       "      <td>Mathematicians</td>\n",
       "      <td>Duties \\n Summary \\n About the Position:  This...</td>\n",
       "      <td>None</td>\n",
       "      <td>None</td>\n",
       "      <td>duti posit posit duti locat applic level targe...</td>\n",
       "      <td>796</td>\n",
       "    </tr>\n",
       "    <tr>\n",
       "      <th>1</th>\n",
       "      <td>1</td>\n",
       "      <td>basic</td>\n",
       "      <td>Mathematics.xls</td>\n",
       "      <td>Mathematicians</td>\n",
       "      <td>Senior Business Analyst / Lead Business Analys...</td>\n",
       "      <td>New York</td>\n",
       "      <td>NY</td>\n",
       "      <td>busi analyst busi analyst organ group chegg gr...</td>\n",
       "      <td>309</td>\n",
       "    </tr>\n",
       "    <tr>\n",
       "      <th>2</th>\n",
       "      <td>2</td>\n",
       "      <td>basic</td>\n",
       "      <td>Mathematics.xls</td>\n",
       "      <td>Mathematicians</td>\n",
       "      <td>Manager, Business Analytics \\nAnalytics | New ...</td>\n",
       "      <td>New York</td>\n",
       "      <td>NY</td>\n",
       "      <td>manag organ group chegg group data decis chegg...</td>\n",
       "      <td>238</td>\n",
       "    </tr>\n",
       "    <tr>\n",
       "      <th>3</th>\n",
       "      <td>3</td>\n",
       "      <td>basic</td>\n",
       "      <td>Mathematics.xls</td>\n",
       "      <td>Mathematicians</td>\n",
       "      <td>About Mastery: \\nWe believe educational inequi...</td>\n",
       "      <td>Camden</td>\n",
       "      <td>NJ</td>\n",
       "      <td>masteri inequ problem countri right issu day m...</td>\n",
       "      <td>211</td>\n",
       "    </tr>\n",
       "    <tr>\n",
       "      <th>4</th>\n",
       "      <td>4</td>\n",
       "      <td>basic</td>\n",
       "      <td>Mathematics.xls</td>\n",
       "      <td>Mathematicians</td>\n",
       "      <td>About Mastery: \\nWe believe educational inequi...</td>\n",
       "      <td>Philadelphia</td>\n",
       "      <td>PA</td>\n",
       "      <td>masteri inequ problem countri right issu day m...</td>\n",
       "      <td>211</td>\n",
       "    </tr>\n",
       "  </tbody>\n",
       "</table>\n",
       "</div>"
      ],
      "text/plain": [
       "   Unnamed: 0 occ_group   skill_category     skill_title  \\\n",
       "0           0     basic  Mathematics.xls  Mathematicians   \n",
       "1           1     basic  Mathematics.xls  Mathematicians   \n",
       "2           2     basic  Mathematics.xls  Mathematicians   \n",
       "3           3     basic  Mathematics.xls  Mathematicians   \n",
       "4           4     basic  Mathematics.xls  Mathematicians   \n",
       "\n",
       "                                     job_description          city state  \\\n",
       "0  Duties \\n Summary \\n About the Position:  This...          None  None   \n",
       "1  Senior Business Analyst / Lead Business Analys...      New York    NY   \n",
       "2  Manager, Business Analytics \\nAnalytics | New ...      New York    NY   \n",
       "3  About Mastery: \\nWe believe educational inequi...        Camden    NJ   \n",
       "4  About Mastery: \\nWe believe educational inequi...  Philadelphia    PA   \n",
       "\n",
       "                                no_stopwords_stemmed  data_len  \n",
       "0  duti posit posit duti locat applic level targe...       796  \n",
       "1  busi analyst busi analyst organ group chegg gr...       309  \n",
       "2  manag organ group chegg group data decis chegg...       238  \n",
       "3  masteri inequ problem countri right issu day m...       211  \n",
       "4  masteri inequ problem countri right issu day m...       211  "
      ]
     },
     "execution_count": 5,
     "metadata": {},
     "output_type": "execute_result"
    }
   ],
   "source": [
    "data3=pd.read_csv('occ_categories_nouns_only.csv')\n",
    "data3.head()"
   ]
  },
  {
   "cell_type": "code",
   "execution_count": 6,
   "metadata": {},
   "outputs": [
    {
     "data": {
      "text/plain": [
       "22533"
      ]
     },
     "execution_count": 6,
     "metadata": {},
     "output_type": "execute_result"
    }
   ],
   "source": [
    "len(data3)"
   ]
  },
  {
   "cell_type": "code",
   "execution_count": 7,
   "metadata": {},
   "outputs": [
    {
     "name": "stdout",
     "output_type": "stream",
     "text": [
      "CPU times: user 38 ms, sys: 457 µs, total: 38.5 ms\n",
      "Wall time: 37.6 ms\n"
     ]
    }
   ],
   "source": [
    "%%time\n",
    "collection=[]\n",
    "for i in data3.no_stopwords_stemmed:\n",
    "    collection.append(re.findall(r'http://[a-z0-9_.\\?=&-@+]{8,150}|https://[a-z0-9_.\\?=&-@+]{8,150}', str(i)))"
   ]
  },
  {
   "cell_type": "code",
   "execution_count": 8,
   "metadata": {},
   "outputs": [
    {
     "name": "stdout",
     "output_type": "stream",
     "text": [
      "CPU times: user 497 ms, sys: 6.72 ms, total: 504 ms\n",
      "Wall time: 504 ms\n"
     ]
    }
   ],
   "source": [
    "%%time\n",
    "X_emails__http_rm=[]\n",
    "for i,j in zip(data3.no_stopwords_stemmed,collection):\n",
    "    X_emails__http_rm.append(' '.join([p for p in i.split() if p not in j]))   "
   ]
  },
  {
   "cell_type": "code",
   "execution_count": 9,
   "metadata": {},
   "outputs": [],
   "source": [
    "data3['X_emails__http_rm']=pd.Series(X_emails__http_rm)"
   ]
  },
  {
   "cell_type": "code",
   "execution_count": 10,
   "metadata": {},
   "outputs": [
    {
     "data": {
      "text/plain": [
       "22533"
      ]
     },
     "execution_count": 10,
     "metadata": {},
     "output_type": "execute_result"
    }
   ],
   "source": [
    "len(X_emails__http_rm)"
   ]
  },
  {
   "cell_type": "code",
   "execution_count": 11,
   "metadata": {},
   "outputs": [
    {
     "data": {
      "text/html": [
       "<div>\n",
       "<style scoped>\n",
       "    .dataframe tbody tr th:only-of-type {\n",
       "        vertical-align: middle;\n",
       "    }\n",
       "\n",
       "    .dataframe tbody tr th {\n",
       "        vertical-align: top;\n",
       "    }\n",
       "\n",
       "    .dataframe thead th {\n",
       "        text-align: right;\n",
       "    }\n",
       "</style>\n",
       "<table border=\"1\" class=\"dataframe\">\n",
       "  <thead>\n",
       "    <tr style=\"text-align: right;\">\n",
       "      <th></th>\n",
       "      <th>occ_group</th>\n",
       "      <th>X_emails__http_rm</th>\n",
       "    </tr>\n",
       "  </thead>\n",
       "  <tbody>\n",
       "    <tr>\n",
       "      <th>0</th>\n",
       "      <td>basic</td>\n",
       "      <td>duti posit posit duti locat applic level targe...</td>\n",
       "    </tr>\n",
       "    <tr>\n",
       "      <th>1</th>\n",
       "      <td>basic</td>\n",
       "      <td>busi analyst busi analyst organ group chegg gr...</td>\n",
       "    </tr>\n",
       "    <tr>\n",
       "      <th>2</th>\n",
       "      <td>basic</td>\n",
       "      <td>manag organ group chegg group data decis chegg...</td>\n",
       "    </tr>\n",
       "    <tr>\n",
       "      <th>3</th>\n",
       "      <td>basic</td>\n",
       "      <td>masteri inequ problem countri right issu day m...</td>\n",
       "    </tr>\n",
       "    <tr>\n",
       "      <th>4</th>\n",
       "      <td>basic</td>\n",
       "      <td>masteri inequ problem countri right issu day m...</td>\n",
       "    </tr>\n",
       "  </tbody>\n",
       "</table>\n",
       "</div>"
      ],
      "text/plain": [
       "  occ_group                                  X_emails__http_rm\n",
       "0     basic  duti posit posit duti locat applic level targe...\n",
       "1     basic  busi analyst busi analyst organ group chegg gr...\n",
       "2     basic  manag organ group chegg group data decis chegg...\n",
       "3     basic  masteri inequ problem countri right issu day m...\n",
       "4     basic  masteri inequ problem countri right issu day m..."
      ]
     },
     "execution_count": 11,
     "metadata": {},
     "output_type": "execute_result"
    }
   ],
   "source": [
    "groups=data3[['occ_group', 'X_emails__http_rm']]\n",
    "groups.head()"
   ]
  },
  {
   "cell_type": "code",
   "execution_count": 12,
   "metadata": {},
   "outputs": [
    {
     "data": {
      "text/plain": [
       "22533"
      ]
     },
     "execution_count": 12,
     "metadata": {},
     "output_type": "execute_result"
    }
   ],
   "source": [
    "len(groups)"
   ]
  },
  {
   "cell_type": "code",
   "execution_count": 13,
   "metadata": {},
   "outputs": [
    {
     "data": {
      "text/html": [
       "<div>\n",
       "<style scoped>\n",
       "    .dataframe tbody tr th:only-of-type {\n",
       "        vertical-align: middle;\n",
       "    }\n",
       "\n",
       "    .dataframe tbody tr th {\n",
       "        vertical-align: top;\n",
       "    }\n",
       "\n",
       "    .dataframe thead th {\n",
       "        text-align: right;\n",
       "    }\n",
       "</style>\n",
       "<table border=\"1\" class=\"dataframe\">\n",
       "  <thead>\n",
       "    <tr style=\"text-align: right;\">\n",
       "      <th></th>\n",
       "      <th>occ_group</th>\n",
       "      <th>X_emails__http_rm</th>\n",
       "    </tr>\n",
       "  </thead>\n",
       "  <tbody>\n",
       "    <tr>\n",
       "      <th>0</th>\n",
       "      <td>basic</td>\n",
       "      <td>duti posit posit duti locat applic level targe...</td>\n",
       "    </tr>\n",
       "    <tr>\n",
       "      <th>1</th>\n",
       "      <td>complex problem solving</td>\n",
       "      <td>career state branch agenc state workforc emplo...</td>\n",
       "    </tr>\n",
       "    <tr>\n",
       "      <th>2</th>\n",
       "      <td>resource management</td>\n",
       "      <td>locat job posit summari technolog offic experi...</td>\n",
       "    </tr>\n",
       "    <tr>\n",
       "      <th>3</th>\n",
       "      <td>social</td>\n",
       "      <td>qualiti summer program school readi practic li...</td>\n",
       "    </tr>\n",
       "    <tr>\n",
       "      <th>4</th>\n",
       "      <td>systems</td>\n",
       "      <td>descript test administr leader comput technolo...</td>\n",
       "    </tr>\n",
       "  </tbody>\n",
       "</table>\n",
       "</div>"
      ],
      "text/plain": [
       "                 occ_group                                  X_emails__http_rm\n",
       "0                    basic  duti posit posit duti locat applic level targe...\n",
       "1  complex problem solving  career state branch agenc state workforc emplo...\n",
       "2      resource management  locat job posit summari technolog offic experi...\n",
       "3                   social  qualiti summer program school readi practic li...\n",
       "4                  systems  descript test administr leader comput technolo..."
      ]
     },
     "execution_count": 13,
     "metadata": {},
     "output_type": "execute_result"
    }
   ],
   "source": [
    "d_group=groups.groupby('occ_group')['X_emails__http_rm'].apply(' '.join).reset_index()\n",
    "d_group.head()"
   ]
  },
  {
   "cell_type": "code",
   "execution_count": 14,
   "metadata": {},
   "outputs": [],
   "source": [
    "def tf_idf_by_category(text, categories):\n",
    "    N=len(text)\n",
    "\n",
    "    counts2=[Counter(i.split()) for i in text]\n",
    "\n",
    "    unique_word_dict=dict(pd.Series(' '.join(text).split()).value_counts())\n",
    "\n",
    "    D=list(unique_word_dict.keys())\n",
    "\n",
    "    token_text=[]\n",
    "    for i in text:\n",
    "        token_text.append([p for p in i.split()])\n",
    "\n",
    "    tf_dict=[]\n",
    "    for i in token_text:\n",
    "        dic=dict(pd.Series(i).value_counts())\n",
    "\n",
    "        tf_dict.append([[p,dic[p]/len(i)] for p in i])\n",
    "\n",
    "    tf_={}\n",
    "    for i,k in zip(categories,tf_dict):\n",
    "        tf_[i]=[p[1] for p in k]\n",
    "\n",
    "\n",
    "    tf_list=list(tf_.values())\n",
    "\n",
    "\n",
    "    enclud=[]\n",
    "    for d in D:\n",
    "        for i,k in enumerate(counts2):\n",
    "            if d in k:\n",
    "                enclud.append([d,i])\n",
    "\n",
    "    a=[]\n",
    "    for i in enclud:\n",
    "        a.append(i[0])\n",
    "\n",
    "    enclude_dict=dict(pd.Series(a).value_counts())   \n",
    "\n",
    "    idf={}\n",
    "    for i,k in enclude_dict.items():\n",
    "        idf[i]=np.log(N/k)\n",
    "\n",
    "    embedded_idf=[]\n",
    "    for i in token_text:\n",
    "        try:\n",
    "            embedded_idf.append([idf[j] for j in i])\n",
    "\n",
    "        except KeyError:\n",
    "            continue \n",
    "            \n",
    "    group_tf_idf=[dict(zip(t,(np.multiply(p,l)))) for t,p,l in zip(token_text,tf_list,embedded_idf)]\n",
    "    \n",
    "    skill_dict=dict(zip(categories,group_tf_idf))\n",
    "    \n",
    "    return skill_dict"
   ]
  },
  {
   "cell_type": "code",
   "execution_count": 15,
   "metadata": {},
   "outputs": [
    {
     "name": "stdout",
     "output_type": "stream",
     "text": [
      "CPU times: user 11.1 s, sys: 315 ms, total: 11.4 s\n",
      "Wall time: 11.4 s\n"
     ]
    }
   ],
   "source": [
    "%%time\n",
    "category_td_idf_dic=tf_idf_by_category(d_group.X_emails__http_rm, d_group.occ_group)\n"
   ]
  },
  {
   "cell_type": "code",
   "execution_count": 16,
   "metadata": {},
   "outputs": [],
   "source": [
    "embedded_skill=[]\n",
    "for i in d_group.occ_group:\n",
    "    for p in data3[data3['occ_group']==i].X_emails__http_rm:\n",
    "        embedded_skill.append([category_td_idf_dic[i][j] for j in p.split()])\n",
    " "
   ]
  },
  {
   "cell_type": "code",
   "execution_count": 17,
   "metadata": {},
   "outputs": [],
   "source": [
    "trial=pd.concat([data3.occ_group,data3.skill_category,data3.skill_title, \n",
    "                 data3.no_stopwords_stemmed,pd.Series([np.mean(i) for i in embedded_skill])], axis=1)"
   ]
  },
  {
   "cell_type": "code",
   "execution_count": 18,
   "metadata": {},
   "outputs": [],
   "source": [
    "#trial.to_csv('trail4.csv')"
   ]
  },
  {
   "cell_type": "code",
   "execution_count": 19,
   "metadata": {},
   "outputs": [],
   "source": [
    "embed_index=dict()\n",
    "glove_dir=open(os.path.join('glove.6B/glove.6B.100d.txt'), encoding='utf8')"
   ]
  },
  {
   "cell_type": "code",
   "execution_count": 20,
   "metadata": {},
   "outputs": [
    {
     "name": "stdout",
     "output_type": "stream",
     "text": [
      "CPU times: user 7.06 s, sys: 155 ms, total: 7.22 s\n",
      "Wall time: 7.96 s\n"
     ]
    }
   ],
   "source": [
    "%%time\n",
    "for line in glove_dir:\n",
    "    records = line.split()\n",
    "    word = records[0]\n",
    "    vector_dimensions = np.asarray(records[1:], dtype='float32')\n",
    "    embed_index [word] = vector_dimensions\n",
    "\n",
    "glove_dir.close()"
   ]
  },
  {
   "cell_type": "code",
   "execution_count": 21,
   "metadata": {},
   "outputs": [],
   "source": [
    "word_tokenizer = Tokenizer()\n",
    "word_tokenizer.fit_on_texts(data3.X_emails__http_rm)"
   ]
  },
  {
   "cell_type": "code",
   "execution_count": 22,
   "metadata": {},
   "outputs": [
    {
     "data": {
      "text/plain": [
       "18419"
      ]
     },
     "execution_count": 22,
     "metadata": {},
     "output_type": "execute_result"
    }
   ],
   "source": [
    "vocab_length = len(word_tokenizer.word_index) + 1\n",
    "vocab_length"
   ]
  },
  {
   "cell_type": "code",
   "execution_count": 23,
   "metadata": {},
   "outputs": [],
   "source": [
    "embedding_matrix = zeros((vocab_length, 100))\n",
    "for word, index in word_tokenizer.word_index.items():\n",
    "    embedding_vector = embed_index.get(word)\n",
    "    if embedding_vector is not None:\n",
    "        embedding_matrix[index] = embedding_vector"
   ]
  },
  {
   "cell_type": "code",
   "execution_count": 24,
   "metadata": {},
   "outputs": [],
   "source": [
    "len_sent=[len(i) for i in embedded_skill]"
   ]
  },
  {
   "cell_type": "code",
   "execution_count": 25,
   "metadata": {},
   "outputs": [
    {
     "data": {
      "text/plain": [
       "1247"
      ]
     },
     "execution_count": 25,
     "metadata": {},
     "output_type": "execute_result"
    }
   ],
   "source": [
    "length_long_sentence=max(len_sent)\n",
    "length_long_sentence"
   ]
  },
  {
   "cell_type": "code",
   "execution_count": 26,
   "metadata": {},
   "outputs": [],
   "source": [
    "padded_sentences = pad_sequences(embedded_skill, length_long_sentence, padding='post')"
   ]
  },
  {
   "cell_type": "code",
   "execution_count": 27,
   "metadata": {},
   "outputs": [
    {
     "data": {
      "text/plain": [
       "(22271, 1247)"
      ]
     },
     "execution_count": 27,
     "metadata": {},
     "output_type": "execute_result"
    }
   ],
   "source": [
    "padded_sentences.shape"
   ]
  },
  {
   "cell_type": "code",
   "execution_count": 28,
   "metadata": {},
   "outputs": [],
   "source": [
    "validation_split=.2\n",
    "indices=np.arange(np.array(padded_sentences,dtype=object).shape[0])\n",
    "np.random.shuffle(indices)"
   ]
  },
  {
   "cell_type": "code",
   "execution_count": 29,
   "metadata": {},
   "outputs": [
    {
     "data": {
      "text/plain": [
       "(22271,)"
      ]
     },
     "execution_count": 29,
     "metadata": {},
     "output_type": "execute_result"
    }
   ],
   "source": [
    "indices.shape"
   ]
  },
  {
   "cell_type": "code",
   "execution_count": 30,
   "metadata": {},
   "outputs": [
    {
     "data": {
      "text/plain": [
       "array([ 7457,  5974,  2642, ..., 13760, 15781,  4106])"
      ]
     },
     "execution_count": 30,
     "metadata": {},
     "output_type": "execute_result"
    }
   ],
   "source": [
    "indices"
   ]
  },
  {
   "cell_type": "code",
   "execution_count": 31,
   "metadata": {},
   "outputs": [],
   "source": [
    "data_rand=padded_sentences[indices]"
   ]
  },
  {
   "cell_type": "code",
   "execution_count": 32,
   "metadata": {},
   "outputs": [
    {
     "data": {
      "text/plain": [
       "(22271, 1247)"
      ]
     },
     "execution_count": 32,
     "metadata": {},
     "output_type": "execute_result"
    }
   ],
   "source": [
    "data_rand.shape"
   ]
  },
  {
   "cell_type": "code",
   "execution_count": 33,
   "metadata": {},
   "outputs": [
    {
     "data": {
      "text/plain": [
       "array(['basic', 'social', 'technical', 'resource management', 'systems',\n",
       "       'complex problem solving', 'nan'], dtype=object)"
      ]
     },
     "execution_count": 33,
     "metadata": {},
     "output_type": "execute_result"
    }
   ],
   "source": [
    "labe=[str(i).replace('.xls','') for i in data3.occ_group]\n",
    "pd.Series(labe).unique()"
   ]
  },
  {
   "cell_type": "code",
   "execution_count": 34,
   "metadata": {},
   "outputs": [],
   "source": [
    "labels_encoded=le.fit(labe)\n",
    "labels_=le.transform(labe)"
   ]
  },
  {
   "cell_type": "code",
   "execution_count": 35,
   "metadata": {},
   "outputs": [
    {
     "data": {
      "text/plain": [
       "array([0, 0, 0, ..., 2, 2, 2])"
      ]
     },
     "execution_count": 35,
     "metadata": {},
     "output_type": "execute_result"
    }
   ],
   "source": [
    "labels_"
   ]
  },
  {
   "cell_type": "code",
   "execution_count": 36,
   "metadata": {},
   "outputs": [],
   "source": [
    "labels_rand=np.array(labels_)[indices]"
   ]
  },
  {
   "cell_type": "code",
   "execution_count": 37,
   "metadata": {},
   "outputs": [
    {
     "data": {
      "text/plain": [
       "array([6, 5, 4, ..., 0, 5, 3])"
      ]
     },
     "execution_count": 37,
     "metadata": {},
     "output_type": "execute_result"
    }
   ],
   "source": [
    "labels_rand"
   ]
  },
  {
   "cell_type": "code",
   "execution_count": 38,
   "metadata": {},
   "outputs": [],
   "source": [
    "val_sample=int(validation_split * data3.shape[0])"
   ]
  },
  {
   "cell_type": "code",
   "execution_count": 39,
   "metadata": {},
   "outputs": [
    {
     "data": {
      "text/plain": [
       "4506"
      ]
     },
     "execution_count": 39,
     "metadata": {},
     "output_type": "execute_result"
    }
   ],
   "source": [
    "val_sample"
   ]
  },
  {
   "cell_type": "code",
   "execution_count": 40,
   "metadata": {},
   "outputs": [],
   "source": [
    "X_train=data_rand[:-val_sample]\n",
    "y_train=labels_rand[:-val_sample]\n",
    "X_test=data_rand[-val_sample:]\n",
    "y_test=labels_rand[-val_sample:]"
   ]
  },
  {
   "cell_type": "code",
   "execution_count": 41,
   "metadata": {},
   "outputs": [
    {
     "name": "stdout",
     "output_type": "stream",
     "text": [
      "X_train shape: (17765, 1247)\n",
      "y_train shape: (17765,)\n",
      "X_test shape: (4506, 1247)\n",
      "y_test shape: (4506,)\n"
     ]
    }
   ],
   "source": [
    "print(f'X_train shape: {X_train.shape}')\n",
    "print(f'y_train shape: {y_train.shape}')\n",
    "print(f'X_test shape: {X_test.shape}')\n",
    "print(f'y_test shape: {y_test.shape}')"
   ]
  },
  {
   "cell_type": "code",
   "execution_count": 42,
   "metadata": {},
   "outputs": [
    {
     "data": {
      "text/plain": [
       "1247"
      ]
     },
     "execution_count": 42,
     "metadata": {},
     "output_type": "execute_result"
    }
   ],
   "source": [
    "length_long_sentence"
   ]
  },
  {
   "cell_type": "code",
   "execution_count": 62,
   "metadata": {},
   "outputs": [],
   "source": [
    "deep_inputs = Input(shape=(length_long_sentence,))\n",
    "embedding = Embedding(vocab_length, 100, weights=[embedding_matrix], input_length=length_long_sentence, trainable=False)(deep_inputs) \n",
    "flatten = Flatten()(embedding)\n",
    "#dropout = Dropout(.05)(flatten)\n",
    "initial = Dense(15, activation='relu')(flatten)\n",
    "output=Dense(1, activation='sigmoid')(initial)\n",
    "model = Model(inputs=deep_inputs, outputs=output)"
   ]
  },
  {
   "cell_type": "code",
   "execution_count": 63,
   "metadata": {},
   "outputs": [],
   "source": [
    "initial_learning_rate = 0.01\n",
    "lr_schedule = tf.keras.optimizers.schedules.ExponentialDecay(\n",
    "    initial_learning_rate,\n",
    "    decay_steps=100000,\n",
    "    decay_rate=0.96,\n",
    "    staircase=True)\n"
   ]
  },
  {
   "cell_type": "code",
   "execution_count": 64,
   "metadata": {},
   "outputs": [
    {
     "name": "stdout",
     "output_type": "stream",
     "text": [
      "Model: \"functional_9\"\n",
      "_________________________________________________________________\n",
      "Layer (type)                 Output Shape              Param #   \n",
      "=================================================================\n",
      "input_5 (InputLayer)         [(None, 1247)]            0         \n",
      "_________________________________________________________________\n",
      "embedding_4 (Embedding)      (None, 1247, 100)         1841900   \n",
      "_________________________________________________________________\n",
      "flatten_4 (Flatten)          (None, 124700)            0         \n",
      "_________________________________________________________________\n",
      "dense_8 (Dense)              (None, 15)                1870515   \n",
      "_________________________________________________________________\n",
      "dense_9 (Dense)              (None, 1)                 16        \n",
      "=================================================================\n",
      "Total params: 3,712,431\n",
      "Trainable params: 1,870,531\n",
      "Non-trainable params: 1,841,900\n",
      "_________________________________________________________________\n",
      "None\n"
     ]
    }
   ],
   "source": [
    "#model.compile(optimizer='sgd', loss='categorical_hinge', metrics=['accuracy'])\n",
    "model.compile(optimizer=tf.keras.optimizers.SGD(learning_rate=lr_schedule), loss='categorical_hinge', metrics=['accuracy'])\n",
    "print(model.summary())"
   ]
  },
  {
   "cell_type": "code",
   "execution_count": 65,
   "metadata": {},
   "outputs": [
    {
     "name": "stdout",
     "output_type": "stream",
     "text": [
      "Epoch 1/50\n",
      "889/889 [==============================] - 3s 4ms/step - loss: 0.3450 - accuracy: 0.2185\n",
      "Epoch 2/50\n",
      "889/889 [==============================] - 3s 3ms/step - loss: 0.3296 - accuracy: 0.2203\n",
      "Epoch 3/50\n",
      "889/889 [==============================] - 3s 3ms/step - loss: 0.3118 - accuracy: 0.2169\n",
      "Epoch 4/50\n",
      "889/889 [==============================] - 3s 3ms/step - loss: 0.3010 - accuracy: 0.2163\n",
      "Epoch 5/50\n",
      "889/889 [==============================] - 3s 3ms/step - loss: 0.2975 - accuracy: 0.2175\n",
      "Epoch 6/50\n",
      "889/889 [==============================] - 3s 3ms/step - loss: 0.3015 - accuracy: 0.2228\n",
      "Epoch 7/50\n",
      "889/889 [==============================] - 3s 4ms/step - loss: 0.2951 - accuracy: 0.2155\n",
      "Epoch 8/50\n",
      "889/889 [==============================] - 3s 4ms/step - loss: 0.3012 - accuracy: 0.2194\n",
      "Epoch 9/50\n",
      "889/889 [==============================] - 3s 3ms/step - loss: 0.3049 - accuracy: 0.2240\n",
      "Epoch 10/50\n",
      "889/889 [==============================] - 3s 3ms/step - loss: 0.2986 - accuracy: 0.2200\n",
      "Epoch 11/50\n",
      "889/889 [==============================] - 3s 3ms/step - loss: 0.2948 - accuracy: 0.2156\n",
      "Epoch 12/50\n",
      "889/889 [==============================] - 3s 4ms/step - loss: 0.2949 - accuracy: 0.2154\n",
      "Epoch 13/50\n",
      "889/889 [==============================] - 3s 3ms/step - loss: 0.2961 - accuracy: 0.2181\n",
      "Epoch 14/50\n",
      "889/889 [==============================] - 3s 3ms/step - loss: 0.2935 - accuracy: 0.2165\n",
      "Epoch 15/50\n",
      "889/889 [==============================] - 3s 3ms/step - loss: 0.2944 - accuracy: 0.2168\n",
      "Epoch 16/50\n",
      "889/889 [==============================] - 3s 3ms/step - loss: 0.2992 - accuracy: 0.2209\n",
      "Epoch 17/50\n",
      "889/889 [==============================] - 3s 3ms/step - loss: 0.2946 - accuracy: 0.2181\n",
      "Epoch 18/50\n",
      "889/889 [==============================] - 3s 3ms/step - loss: 0.2960 - accuracy: 0.2185\n",
      "Epoch 19/50\n",
      "889/889 [==============================] - 3s 3ms/step - loss: 0.3007 - accuracy: 0.2206\n",
      "Epoch 20/50\n",
      "889/889 [==============================] - 3s 3ms/step - loss: 0.2904 - accuracy: 0.2131\n",
      "Epoch 21/50\n",
      "889/889 [==============================] - 3s 3ms/step - loss: 0.2908 - accuracy: 0.2123\n",
      "Epoch 22/50\n",
      "889/889 [==============================] - 3s 4ms/step - loss: 0.3007 - accuracy: 0.2208\n",
      "Epoch 23/50\n",
      "889/889 [==============================] - 3s 3ms/step - loss: 0.3020 - accuracy: 0.2235\n",
      "Epoch 24/50\n",
      "889/889 [==============================] - 3s 3ms/step - loss: 0.2961 - accuracy: 0.2178\n",
      "Epoch 25/50\n",
      "889/889 [==============================] - 3s 4ms/step - loss: 0.3015 - accuracy: 0.2227\n",
      "Epoch 26/50\n",
      "889/889 [==============================] - 3s 4ms/step - loss: 0.2909 - accuracy: 0.2129\n",
      "Epoch 27/50\n",
      "889/889 [==============================] - 3s 3ms/step - loss: 0.2992 - accuracy: 0.2195\n",
      "Epoch 28/50\n",
      "889/889 [==============================] - 3s 3ms/step - loss: 0.2940 - accuracy: 0.2162\n",
      "Epoch 29/50\n",
      "889/889 [==============================] - 3s 4ms/step - loss: 0.2949 - accuracy: 0.2166\n",
      "Epoch 30/50\n",
      "889/889 [==============================] - 3s 3ms/step - loss: 0.3007 - accuracy: 0.2222\n",
      "Epoch 31/50\n",
      "889/889 [==============================] - 3s 3ms/step - loss: 0.2964 - accuracy: 0.2182\n",
      "Epoch 32/50\n",
      "889/889 [==============================] - 3s 4ms/step - loss: 0.2994 - accuracy: 0.2216\n",
      "Epoch 33/50\n",
      "889/889 [==============================] - 3s 4ms/step - loss: 0.3003 - accuracy: 0.2216\n",
      "Epoch 34/50\n",
      "889/889 [==============================] - 3s 3ms/step - loss: 0.2977 - accuracy: 0.2193\n",
      "Epoch 35/50\n",
      "889/889 [==============================] - 3s 4ms/step - loss: 0.2985 - accuracy: 0.2209\n",
      "Epoch 36/50\n",
      "889/889 [==============================] - 3s 4ms/step - loss: 0.2952 - accuracy: 0.2186\n",
      "Epoch 37/50\n",
      "889/889 [==============================] - 3s 3ms/step - loss: 0.2992 - accuracy: 0.2214\n",
      "Epoch 38/50\n",
      "889/889 [==============================] - 3s 3ms/step - loss: 0.2963 - accuracy: 0.2199\n",
      "Epoch 39/50\n",
      "889/889 [==============================] - 3s 4ms/step - loss: 0.2982 - accuracy: 0.2194\n",
      "Epoch 40/50\n",
      "889/889 [==============================] - 3s 4ms/step - loss: 0.2998 - accuracy: 0.2197\n",
      "Epoch 41/50\n",
      "889/889 [==============================] - 3s 4ms/step - loss: 0.2992 - accuracy: 0.2201\n",
      "Epoch 42/50\n",
      "889/889 [==============================] - 3s 4ms/step - loss: 0.2969 - accuracy: 0.2190\n",
      "Epoch 43/50\n",
      "889/889 [==============================] - 3s 4ms/step - loss: 0.2894 - accuracy: 0.2139\n",
      "Epoch 44/50\n",
      "889/889 [==============================] - 3s 4ms/step - loss: 0.2912 - accuracy: 0.2154\n",
      "Epoch 45/50\n",
      "889/889 [==============================] - 3s 3ms/step - loss: 0.2969 - accuracy: 0.2185\n",
      "Epoch 46/50\n",
      "889/889 [==============================] - 3s 4ms/step - loss: 0.2947 - accuracy: 0.2176\n",
      "Epoch 47/50\n",
      "889/889 [==============================] - 3s 4ms/step - loss: 0.2998 - accuracy: 0.2204\n",
      "Epoch 48/50\n",
      "889/889 [==============================] - 3s 4ms/step - loss: 0.2968 - accuracy: 0.2180\n",
      "Epoch 49/50\n",
      "889/889 [==============================] - 3s 3ms/step - loss: 0.2940 - accuracy: 0.2149\n",
      "Epoch 50/50\n",
      "889/889 [==============================] - 3s 3ms/step - loss: 0.2938 - accuracy: 0.2171\n",
      "Accuracy: 22.458944\n"
     ]
    }
   ],
   "source": [
    "model.fit(X_train, y_train, epochs=50, verbose=1,batch_size = 20)\n",
    "loss, accuracy = model.evaluate(X_test, y_test, verbose=0)\n",
    "\n",
    "print('Accuracy: %f' % (accuracy*100))"
   ]
  },
  {
   "cell_type": "code",
   "execution_count": null,
   "metadata": {},
   "outputs": [],
   "source": []
  },
  {
   "cell_type": "code",
   "execution_count": null,
   "metadata": {},
   "outputs": [],
   "source": []
  },
  {
   "cell_type": "code",
   "execution_count": null,
   "metadata": {},
   "outputs": [],
   "source": []
  },
  {
   "cell_type": "code",
   "execution_count": 319,
   "metadata": {},
   "outputs": [],
   "source": [
    "'''dropout1 = Dropout(.02)(initial)\n",
    "hidden = Dense(15, activation='softsign')(dropout1)\n",
    "hidden2= Dense(15, activation='sigmoid')(hidden)\n",
    "dropout2 = Dropout(.02)(hidden2)\n",
    "dropout = Dropout(.05)(flatten)\n",
    "initial = Dense(42, activation='relu')(dropout)\n",
    "dropout1 = Dropout(.05)(initial)'''"
   ]
  },
  {
   "cell_type": "code",
   "execution_count": null,
   "metadata": {},
   "outputs": [],
   "source": []
  },
  {
   "cell_type": "code",
   "execution_count": null,
   "metadata": {},
   "outputs": [],
   "source": []
  },
  {
   "cell_type": "code",
   "execution_count": null,
   "metadata": {},
   "outputs": [],
   "source": []
  }
 ],
 "metadata": {
  "kernelspec": {
   "display_name": "Python 3",
   "language": "python",
   "name": "python3"
  },
  "language_info": {
   "codemirror_mode": {
    "name": "ipython",
    "version": 3
   },
   "file_extension": ".py",
   "mimetype": "text/x-python",
   "name": "python",
   "nbconvert_exporter": "python",
   "pygments_lexer": "ipython3",
   "version": "3.7.7"
  }
 },
 "nbformat": 4,
 "nbformat_minor": 2
}
